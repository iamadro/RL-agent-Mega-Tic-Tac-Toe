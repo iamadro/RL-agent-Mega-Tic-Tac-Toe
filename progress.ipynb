{
 "cells": [
  {
   "cell_type": "markdown",
   "id": "c1170640",
   "metadata": {},
   "source": [
    "## Creating the environment"
   ]
  },
  {
   "cell_type": "code",
   "execution_count": null,
   "id": "8fe20a3c",
   "metadata": {},
   "outputs": [],
   "source": [
    "class TTT:\n",
    "    def __init__(self):\n",
    "        state = [0] * 9\n",
    "\n",
    "    def make_move(self, player : int, ind : int):\n",
    "        if (player != 1 and player != 2) or (ind < 0 or ind > 8):\n",
    "            print(f\"Invalid player {player} or index {ind} in make move\")\n",
    "            return\n",
    "        \n",
    "        if (self.state[ind] == 0):\n",
    "            self.state[ind] = player\n",
    "        else: \n",
    "            print(f\"{ind} index has value of player {self.state[ind]}\")\n",
    "    \n",
    "    def win_found(self, ind : int, player : int): #returns boolean\n",
    "        col = ind % 3\n",
    "        row = ind / 3\n",
    "\n",
    "        for i in range(3):\n",
    "            if (self.state[row + i] != player or self.state[col + 3*i] != player):\n",
    "                return False\n",
    "            \n",
    "        # still left for diagonals\n",
    "        # Consider both left and right diagonals\n",
    "        \n",
    "        return True"
   ]
  }
 ],
 "metadata": {
  "kernelspec": {
   "display_name": ".venv",
   "language": "python",
   "name": "python3"
  },
  "language_info": {
   "name": "python",
   "version": "3.11.4"
  }
 },
 "nbformat": 4,
 "nbformat_minor": 5
}
